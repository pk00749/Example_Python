{
 "cells": [
  {
   "cell_type": "code",
   "execution_count": 12,
   "metadata": {
    "collapsed": true
   },
   "outputs": [
    {
     "name": "stdout",
     "output_type": "stream",
     "text": [
      "original a:  ABC --> 31237600\nassignment b:  ABC --> 31237600\nShadow Copy c:  ABC --> 31237600\nDeep Copy d:  ABC --> 31237600\n"
     ]
    }
   ],
   "source": [
    "import copy\n",
    "a = \"ABC\"\n",
    "b = a\n",
    "c = copy.copy(a)\n",
    "d = copy.deepcopy(a)\n",
    "print(\"original a: \", a,\"-->\", id(a))\n",
    "print(\"assignment b: \", b,\"-->\", id(b))\n",
    "print(\"Shadow Copy c: \", c,\"-->\", id(c))\n",
    "print(\"Deep Copy d: \", d,\"-->\", id(d))"
   ]
  },
  {
   "cell_type": "code",
   "execution_count": 13,
   "metadata": {},
   "outputs": [
    {
     "name": "stdout",
     "output_type": "stream",
     "text": [
      "original a:  ['ABC'] --> 247688712\nassignment b:  ['ABC'] --> 247688712\nShadow Copy c:  ['ABC'] --> 247115976\nDeep Copy d:  ['ABC'] --> 247788616\n"
     ]
    }
   ],
   "source": [
    "import copy\n",
    "a = [\"ABC\"]\n",
    "b = a\n",
    "c = copy.copy(a)\n",
    "d = copy.deepcopy(a)\n",
    "print(\"original a: \", a,\"-->\", id(a))\n",
    "print(\"assignment b: \", b,\"-->\", id(b))\n",
    "print(\"Shadow Copy c: \", c,\"-->\", id(c))\n",
    "print(\"Deep Copy d: \", d,\"-->\", id(d))"
   ]
  },
  {
   "cell_type": "code",
   "execution_count": 42,
   "metadata": {},
   "outputs": [
    {
     "name": "stdout",
     "output_type": "stream",
     "text": [
      "原始a:  ['ABC'] --> 99463048\n原始a内的元素a[0]:  ABC --> 31237600\n浅拷贝c:  ['ABC'] --> 99419976\n浅拷贝c的元素c[0]:  ABC --> 31237600\n--------------------------------------------\n只修改a内的元素a[0],a[0]='DEF'\n修改后的a:  ['DEF'] --> 99463048\n修改后的元素a[0]:  DEF --> 47670696\n此时的浅拷贝c:  ['ABC'] --> 99419976\n此时浅拷贝c的元素c[0]:  ABC --> 31237600\n--------------------------------------------\n修改这个对象a,a=['GHI']\n修改后的a:  ['GHI'] --> 99602888\n修改后的元素a[0]:  GHI --> 247811744\n此时的浅拷贝c:  ['ABC'] --> 99419976\n此时浅拷贝c的元素c[0]:  ABC --> 31237600\n"
     ]
    }
   ],
   "source": [
    "import copy\n",
    "a = [\"ABC\"]\n",
    "c = copy.copy(a)\n",
    "print(\"原始a: \", a,\"-->\", id(a))\n",
    "print(\"原始a内的元素a[0]: \", a[0],\"-->\", id(a[0]))\n",
    "print(\"浅拷贝c: \", c,\"-->\", id(c))\n",
    "print(\"浅拷贝c的元素c[0]: \", c[0],\"-->\", id(c[0]))\n",
    "\n",
    "print(\"--------------------------------------------\")\n",
    "print(\"只修改a内的元素a[0],a[0]='DEF'\")\n",
    "a[0]=\"DEF\"\n",
    "print(\"修改后的a: \", a,\"-->\", id(a))\n",
    "print(\"修改后的元素a[0]: \", a[0],\"-->\", id(a[0]))\n",
    "print(\"此时的浅拷贝c: \", c,\"-->\", id(c))\n",
    "print(\"此时浅拷贝c的元素c[0]: \", c[0],\"-->\", id(c[0]))\n",
    "print(\"--------------------------------------------\")\n",
    "print(\"修改这个对象a,a=['GHI']\")\n",
    "a=[\"GHI\"]\n",
    "print(\"修改后的a: \", a,\"-->\", id(a))\n",
    "print(\"修改后的元素a[0]: \", a[0],\"-->\", id(a[0]))\n",
    "print(\"此时的浅拷贝c: \", c,\"-->\", id(c))\n",
    "print(\"此时浅拷贝c的元素c[0]: \", c[0],\"-->\", id(c[0]))\n"
   ]
  },
  {
   "cell_type": "code",
   "execution_count": 45,
   "metadata": {},
   "outputs": [
    {
     "name": "stdout",
     "output_type": "stream",
     "text": [
      "原始a:  [['ABC'], 'XYZ'] --> 99565640\n原始a内的元素a[0]:  ['ABC'] --> 99460680\n原始a内的元素a[0][0]:  ABC --> 31237600\n原始a内的元素a[1]:  XYZ --> 247809784\n浅拷贝c:  [['ABC'], 'XYZ'] --> 99461000\n浅拷贝c的元素c[0]:  ['ABC'] --> 99460680\n浅拷贝c的元素c[0][0]:  ABC --> 31237600\n浅拷贝c的元素c[1]:  XYZ --> 247809784\n--------------------------------------------\na[0][0]='DEF'\n修改后的a:  [['DEF'], '<>?'] --> 99565640\n修改后a内的元素a[0]:  ['DEF'] --> 99460680\n修改后a内的元素a[0][0]:  DEF --> 47670696\n修改后a内的元素a[1]:  <>? --> 99710152\n此时浅拷贝c:  [['DEF'], 'XYZ'] --> 99461000\n此时浅拷贝c的元素c[0]:  ['DEF'] --> 99460680\n此时浅拷贝c的元素c[0][0]:  DEF --> 47670696\n此时浅拷贝c的元素c[1]:  XYZ --> 247809784\n--------------------------------------------\na[0]=['GHI']\n修改后的a:  [['GHI'], '<>?'] --> 99565640\n修改后a内的元素a[0]:  ['GHI'] --> 99605192\n修改后a内的元素a[0][0]:  GHI --> 99710880\n修改后a内的元素a[1]:  <>? --> 99710936\n此时浅拷贝c:  [['DEF'], 'XYZ'] --> 99461000\n此时浅拷贝c的元素c[0]:  ['DEF'] --> 99460680\n此时浅拷贝c的元素c[0][0]:  DEF --> 47670696\n此时浅拷贝c的元素c[1]:  XYZ --> 247809784\n"
     ]
    }
   ],
   "source": [
    "import copy\n",
    "a = [[\"ABC\"],\"XYZ\"]\n",
    "c = copy.copy(a)\n",
    "print(\"原始a: \", a,\"-->\", id(a))\n",
    "print(\"原始a内的元素a[0]: \", a[0],\"-->\", id(a[0]))\n",
    "print(\"原始a内的元素a[0][0]: \", a[0][0],\"-->\", id(a[0][0]))\n",
    "print(\"原始a内的元素a[1]: \", a[1],\"-->\", id(a[1]))\n",
    "print(\"浅拷贝c: \", c,\"-->\", id(c))\n",
    "print(\"浅拷贝c的元素c[0]: \", c[0],\"-->\", id(c[0]))\n",
    "print(\"浅拷贝c的元素c[0][0]: \", c[0][0],\"-->\", id(c[0][0]))\n",
    "print(\"浅拷贝c的元素c[1]: \", c[1],\"-->\", id(c[1]))\n",
    "\n",
    "print(\"--------------------------------------------\")\n",
    "a[0][0]=\"DEF\"\n",
    "a[1]=\"<>?\"\n",
    "print(\"a[0][0]='DEF'\")\n",
    "print(\"修改后的a: \", a,\"-->\", id(a))\n",
    "print(\"修改后a内的元素a[0]: \", a[0],\"-->\", id(a[0]))\n",
    "print(\"修改后a内的元素a[0][0]: \", a[0][0],\"-->\", id(a[0][0]))\n",
    "print(\"修改后a内的元素a[1]: \", a[1],\"-->\", id(a[1]))\n",
    "print(\"此时浅拷贝c: \", c,\"-->\", id(c))\n",
    "print(\"此时浅拷贝c的元素c[0]: \", c[0],\"-->\", id(c[0]))\n",
    "print(\"此时浅拷贝c的元素c[0][0]: \", c[0][0],\"-->\", id(c[0][0]))\n",
    "print(\"此时浅拷贝c的元素c[1]: \", c[1],\"-->\", id(c[1]))\n",
    "print(\"--------------------------------------------\")\n",
    "print(\"a[0]=['GHI']\")\n",
    "a[0]=[\"GHI\"]\n",
    "a[1]=\"<>?\"\n",
    "print(\"修改后的a: \", a,\"-->\", id(a))\n",
    "print(\"修改后a内的元素a[0]: \", a[0],\"-->\", id(a[0]))\n",
    "print(\"修改后a内的元素a[0][0]: \", a[0][0],\"-->\", id(a[0][0]))\n",
    "print(\"修改后a内的元素a[1]: \", a[1],\"-->\", id(a[1]))\n",
    "print(\"此时浅拷贝c: \", c,\"-->\", id(c))\n",
    "print(\"此时浅拷贝c的元素c[0]: \", c[0],\"-->\", id(c[0]))\n",
    "print(\"此时浅拷贝c的元素c[0][0]: \", c[0][0],\"-->\", id(c[0][0]))\n",
    "print(\"此时浅拷贝c的元素c[1]: \", c[1],\"-->\", id(c[1]))"
   ]
  },
  {
   "cell_type": "code",
   "execution_count": null,
   "metadata": {},
   "outputs": [],
   "source": []
  }
 ],
 "metadata": {
  "kernelspec": {
   "display_name": "Python 2",
   "language": "python",
   "name": "python2"
  },
  "language_info": {
   "codemirror_mode": {
    "name": "ipython",
    "version": 2
   },
   "file_extension": ".py",
   "mimetype": "text/x-python",
   "name": "python",
   "nbconvert_exporter": "python",
   "pygments_lexer": "ipython2",
   "version": "2.7.6"
  }
 },
 "nbformat": 4,
 "nbformat_minor": 0
}
